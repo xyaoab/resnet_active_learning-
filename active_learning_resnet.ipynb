{
 "cells": [
  {
   "cell_type": "code",
   "execution_count": 1,
   "metadata": {
    "collapsed": true
   },
   "outputs": [],
   "source": [
    "import torchvision \n",
    "import numpy as np\n",
    "import torch\n",
    "import torch.autograd as autograd\n",
    "from torch.autograd import Variable, Function\n",
    "from torch.nn.parameter import Parameter\n",
    "import torch.nn as nn\n",
    "import pylab as pl\n",
    "import time\n",
    "import math\n",
    "import pickle\n",
    "from IPython import display\n",
    "import torch.nn.functional as F\n",
    "from copy import deepcopy\n",
    "import cifarResnet\n",
    "from torchsummary import summary\n",
    "from matplotlib import pyplot as plt\n",
    "from scipy.misc import bytescale\n",
    "\n",
    "torch.cuda.set_device(3) # Set gpu number here"
   ]
  },
  {
   "cell_type": "code",
   "execution_count": 2,
   "metadata": {},
   "outputs": [
    {
     "name": "stdout",
     "output_type": "stream",
     "text": [
      "Files already downloaded and verified\n",
      "Files already downloaded and verified\n"
     ]
    }
   ],
   "source": [
    "train_set = torchvision.datasets.CIFAR100(root='/data/xay2/cifar100', train=True, download=True)\n",
    "test_set = torchvision.datasets.CIFAR100(root='/data/xay2/cifar100', train=False, download=True)\n",
    "with open('/data/xay2/cifar100/cifar-100-python/train', 'rb') as fo:\n",
    "    d = pickle.load(fo, encoding='bytes')\n",
    "    train_data = d[b'data'].reshape(-1,3,32,32)\n",
    "    train_labels = np.array(d[b'fine_labels'])\n",
    "with open('/data/xay2/cifar100/cifar-100-python/test', 'rb') as fo:\n",
    "    d = pickle.load(fo, encoding='bytes')\n",
    "    testdata = d[b'data'].reshape(-1,3,32,32)\n",
    "    testlabels = np.array(d[b'fine_labels'])\n",
    "    \n",
    "train_size = 40000\n",
    "val_size = 10000\n",
    "traindata = train_data[:train_size]\n",
    "trainlabels = train_labels[:train_size]\n",
    "valdata = train_data[train_size:train_size+val_size]\n",
    "vallabels = train_labels[train_size:train_size + val_size]\n",
    "\n",
    "traindata = torch.Tensor(traindata.astype(np.float64))\n",
    "trainlabels = torch.Tensor(trainlabels.astype(np.float64)).long()\n",
    "valdata = torch.Tensor(valdata.astype(np.float64))\n",
    "vallabels = torch.Tensor(vallabels.astype(np.float64)).long()\n",
    "testdata = torch.Tensor(testdata.astype(np.float64))\n",
    "testlabels = torch.Tensor(testlabels.astype(np.float64)).long()\n",
    "\n",
    "\n",
    "standardize = torchvision.transforms.Normalize(mean=[125.3, 123, 113.9],std=[63, 62.1, 66.7])\n",
    "traindata = torch.cat([standardize(traindata[i]).view(1,3,32,32) for i in range(len(traindata))],dim=0).float()\n",
    "valdata = torch.cat([standardize(valdata[i]).view(1,3,32,32) for i in range(len(valdata))],dim=0).float()\n",
    "testdata = torch.cat([standardize(testdata[i]).view(1,3,32,32) for i in range(len(testdata))],dim=0).float()"
   ]
  },
  {
   "cell_type": "code",
   "execution_count": 3,
   "metadata": {
    "collapsed": true
   },
   "outputs": [],
   "source": [
    "# Define our helper functions\n",
    "\n",
    "def alter(t):\n",
    "    # flip and crop\n",
    "    if np.random.random(1) > .5:\n",
    "        inv_idx = torch.arange(t.size(2)-1,-1,-1).long()\n",
    "        result = t[:,:,inv_idx]\n",
    "    else:\n",
    "        result = t\n",
    "    result = F.pad(result.view(1,3,32,32),(4,4,4,4)).data\n",
    "    x = np.random.randint(0,high=9)\n",
    "    y = np.random.randint(0,high=9)\n",
    "    return result[0,:,x:x+32,y:y+32].contiguous()\n",
    "\n",
    "def batchmaker(theset, thelabels, shot=100, alterful=False):\n",
    "    batch = np.random.choice(len(theset),shot,replace=False)\n",
    "    data = (torch.cat([alter(theset[i]).view(1,3,32,32) for i in batch],dim=0).float()\n",
    "            if alterful else\n",
    "            torch.cat([theset[i].view(1,3,32,32) for i in batch],dim=0).float())\n",
    "    labels = torch.LongTensor(np.array([thelabels[i] for i in batch]))\n",
    "    \n",
    "    return(Variable(data).cuda(),\n",
    "           Variable(labels).cuda()\n",
    "          )\n",
    "\n",
    "criterion = nn.CrossEntropyLoss().cuda()\n",
    "\n",
    "def evaluate(model, criterion, testing_data, testing_labels, shot=1000):\n",
    "    support, targs = batchmaker(testing_data, testing_labels, shot=shot)\n",
    "    c = 200\n",
    "    assert shot%c==0\n",
    "    batches = int(shot//c)\n",
    "    support = support.view(batches, c, 3, 32, 32)\n",
    "    targs = targs.view(batches, c)\n",
    "    acc = 0\n",
    "    loss = 0\n",
    "    with torch.no_grad():\n",
    "        for i in range(batches):\n",
    "            preds = model(support[i,:,:,:,:])\n",
    "            loss += criterion(preds, targs[i,:]).data[0]\n",
    "            _,bins = torch.max(preds, 1)\n",
    "            acc += torch.sum(torch.eq(bins,targs[i,:])).data[0]\n",
    "    acc = float(acc)/shot\n",
    "    loss = float(loss)/batches\n",
    "    return loss, acc"
   ]
  },
  {
   "cell_type": "code",
   "execution_count": 4,
   "metadata": {
    "collapsed": true
   },
   "outputs": [],
   "source": [
    "model = cifarResnet.ResNet(9,16).cuda()\n",
    "i = model.fc.in_features\n",
    "model.fc = nn.Linear(i,100).cuda()\n",
    "#model after fine tuning\n",
    "checkpoint = torch.load('/data/xay2/scripts/pretrained_resnet/fine_tune.pth')\n",
    "model.load_state_dict(checkpoint)\n",
    "\n",
    "for param in model.parameters():\n",
    "    assert param.requires_grad is True\n"
   ]
  },
  {
   "cell_type": "code",
   "execution_count": 5,
   "metadata": {
    "collapsed": true
   },
   "outputs": [],
   "source": [
    "def train(data, targets, model):\n",
    "    # Train!\n",
    "\n",
    "    %matplotlib inline\n",
    "\n",
    "    vbity = 500\n",
    "    epoch = 800\n",
    "    limit = 3200\n",
    "    ensemble = list(range(1)) # Set the number of models that you want to train here\n",
    "    allscores = []\n",
    "    alltrainloss = []\n",
    "    alltestloss = []\n",
    "    start = time.time()\n",
    "    for b in ensemble:\n",
    "        #model = cifarResnet.ResNet(9,16).cuda()\n",
    "        optimizer = torch.optim.SGD(model.parameters(),lr=.1,weight_decay=.0001,momentum=.9)\n",
    "        scheduler = torch.optim.lr_scheduler.LambdaLR(optimizer, lambda x: min(1/(10**(x)),.1))\n",
    "        losstracker = []\n",
    "        evalacctracker = []\n",
    "        evallosstracker = []\n",
    "        runningloss = 0\n",
    "        for it in range(limit):\n",
    "            if it%50==0:\n",
    "                print(it)\n",
    "\n",
    "            # Build batch\n",
    "            support, targs = batchmaker(data, targets, int(targets.size()[0]/3),alterful=True)\n",
    "            model.train()\n",
    "            # Predict\n",
    "            model.zero_grad()\n",
    "            preds = model(support)\n",
    "\n",
    "            # Calculate Loss\n",
    "            loss = criterion(preds, targs)\n",
    "            runningloss += loss.item()\n",
    "\n",
    "            # Backprop\n",
    "            if it%epoch == 0:\n",
    "                scheduler.step()\n",
    "            loss.backward()\n",
    "        #     nn.utils.clip_grad_norm(model.parameters(), 1)\n",
    "            optimizer.step()\n",
    "\n",
    "            # Report\n",
    "            if it%vbity == vbity-1:\n",
    "                display.clear_output(wait=True)\n",
    "                print(\"size of train_labels\", targets.size()[0])\n",
    "                print(\"Approximately %.2f hours to completion\"%(\n",
    "                    (time.time()-start)/(it+1+b*limit)*((len(ensemble)-b)*limit-it)/3600))\n",
    "\n",
    "                losstracker.append(runningloss/vbity)\n",
    "                model = model.eval()\n",
    "                evalloss, evalacc = evaluate(model, criterion, valdata, vallabels, shot=10000)\n",
    "                model = model.train()\n",
    "                evallosstracker.append(evalloss)\n",
    "                evalacctracker.append(evalacc)\n",
    "\n",
    "                pl.figure(1,figsize=(15,5))\n",
    "                pl.subplot(1,2,1)\n",
    "                pl.plot(losstracker)\n",
    "                pl.plot(evallosstracker)\n",
    "                pl.ylim((0,1))\n",
    "        #         pl.xlim((0,limit*epoch))\n",
    "                pl.title(\"Loss: Training Blue, Validation Gold\")\n",
    "                pl.subplot(1,2,2)\n",
    "                pl.plot(evalacctracker[::-1])\n",
    "                pl.ylim((0,.2))\n",
    "        #         pl.xlim((0,limit*epoch))\n",
    "                pl.title(\"Validation Acc\")\n",
    "                pl.show()\n",
    "\n",
    "                print(\"Train loss is: \"+str(runningloss/vbity)+\n",
    "                      \"\\nValidation accuracy is: \"+str(evalacc)+\n",
    "                      \"\\nValidation loss is: \"+str(evalloss)+\"\\n\")\n",
    "                runningloss = 0\n",
    "                #print(allscores)\n",
    "        model.eval()\n",
    "        _,score = evaluate(model, criterion, valdata, vallabels, shot=10000)\n",
    "        allscores.append(score)\n",
    "        alltrainloss.append(losstracker)\n",
    "        alltestloss.append(evallosstracker)\n",
    "\n",
    "    print(\"Average score is\", np.mean(allscores))"
   ]
  },
  {
   "cell_type": "code",
   "execution_count": 6,
   "metadata": {
    "collapsed": true
   },
   "outputs": [],
   "source": [
    "#kl divergence \n",
    "def kld(p,q):\n",
    "    return torch.sum(p * torch.log(p / q) ,dim=1)"
   ]
  },
  {
   "cell_type": "code",
   "execution_count": 7,
   "metadata": {
    "collapsed": true
   },
   "outputs": [],
   "source": [
    "def query(traindata, trainlabels,shot=800, n_committee=3):    \n",
    "    batch_data, batch_targets = batchmaker(traindata, trainlabels, shot, False)\n",
    "    ensemble = list(range(n_committee))\n",
    "    softmax = nn.Softmax(dim=1)\n",
    "    preds_ensemble = []\n",
    "    for _ in ensemble:\n",
    "        preds = model(batch_data, True)\n",
    "        prob = softmax(preds)\n",
    "        preds_ensemble.append(prob)\n",
    "\n",
    "    preds_ensemble = torch.stack(preds_ensemble)\n",
    "    consensus = (torch.sum(preds_ensemble,dim=0)/len(ensemble))\n",
    "\n",
    "    loss=[]\n",
    "    for b in ensemble:\n",
    "        loss.append(kld(preds_ensemble[b], consensus))\n",
    "    loss = torch.stack(loss).sum(dim=0) / len(ensemble)\n",
    "    #threshold = (torch.max(loss)+torch.min(loss))*0.5\n",
    "    #print(\"Threshold: \",threshold)\n",
    "    batch_train_targets = batch_targets[torch.topk(loss, 384)[1]]\n",
    "    batch_train_data = batch_data[torch.topk(loss, 384)[1]]\n",
    "    #batch_train_targets = batch_targets[loss>threshold]\n",
    "    #batch_train_data = batch_data[loss>threshold]\n",
    "    #print(batch_train_targets.size())\n",
    "    return batch_train_data, batch_train_targets"
   ]
  },
  {
   "cell_type": "code",
   "execution_count": 8,
   "metadata": {
    "collapsed": true
   },
   "outputs": [],
   "source": [
    "#batch_train_data, batch_train_targets = query(traindata, trainlabels)\n",
    "#print(batch_train_data.size())"
   ]
  },
  {
   "cell_type": "code",
   "execution_count": 9,
   "metadata": {},
   "outputs": [
    {
     "name": "stdout",
     "output_type": "stream",
     "text": [
      "size of train_labels 384\n",
      "Approximately 0.00 hours to completion\n"
     ]
    },
    {
     "data": {
      "image/png": "[encoded data removed]",
      "text/plain": [
       "<matplotlib.figure.Figure at 0x7f7b056eba20>"
      ]
     },
     "metadata": {},
     "output_type": "display_data"
    },
    {
     "name": "stdout",
     "output_type": "stream",
     "text": [
      "Train loss is: 0.0018385780900716782\n",
      "Validation accuracy is: 0.1704\n",
      "Validation loss is: 6.315010375976563\n",
      "\n",
      "3000\n",
      "3050\n",
      "3100\n",
      "3150\n",
      "Average score is 0.1705\n"
     ]
    }
   ],
   "source": [
    "train_count =[]\n",
    "for _ in range(15):\n",
    "    batch_train_data, batch_train_targets = query(traindata, trainlabels)\n",
    "    print(batch_train_data.size())\n",
    "    train_count.append(batch_train_targets.size()[0])\n",
    "    train(batch_train_data,batch_train_targets,model)\n",
    "    "
   ]
  },
  {
   "cell_type": "code",
   "execution_count": 10,
   "metadata": {},
   "outputs": [
    {
     "name": "stdout",
     "output_type": "stream",
     "text": [
      "[384, 384, 384, 384, 384, 384, 384, 384, 384, 384, 384, 384, 384, 384, 384]\n"
     ]
    }
   ],
   "source": [
    "print(train_count)"
   ]
  },
  {
   "cell_type": "code",
   "execution_count": null,
   "metadata": {
    "collapsed": true
   },
   "outputs": [],
   "source": []
  }
 ],
 "metadata": {
  "kernelspec": {
   "display_name": "Python 3",
   "language": "python",
   "name": "python3"
  },
  "language_info": {
   "codemirror_mode": {
    "name": "ipython",
    "version": 3
   },
   "file_extension": ".py",
   "mimetype": "text/x-python",
   "name": "python",
   "nbconvert_exporter": "python",
   "pygments_lexer": "ipython3",
   "version": "3.6.4"
  }
 },
 "nbformat": 4,
 "nbformat_minor": 2
}
